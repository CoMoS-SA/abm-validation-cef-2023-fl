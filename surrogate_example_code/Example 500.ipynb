{
 "cells": [
  {
   "cell_type": "markdown",
   "metadata": {},
   "source": [
    "# Surrogate Modeling Regression Example\n",
    "This example illustrates the difference between Kriging and the (Batch) XGBoost algorithm. \n",
    "The aim is to show the difference between Kriging and XGBoost on the exact same examples in\n",
    "the standard setting of regression. We do not expect a great difference in performance.\n",
    "Note that there is no iterative training in this example. "
   ]
  },
  {
   "cell_type": "markdown",
   "metadata": {},
   "source": [
    "## Setup the Environment\n",
    "Note that this code has only been tested on Python 3"
   ]
  },
  {
   "cell_type": "code",
   "execution_count": 1,
   "metadata": {},
   "outputs": [
    {
     "data": {
      "text/html": [
       "<style>.container { width:100% !important; }</style>"
      ],
      "text/plain": [
       "<IPython.core.display.HTML object>"
      ]
     },
     "metadata": {},
     "output_type": "display_data"
    }
   ],
   "source": [
    "%config InlineBackend.figure_format = 'retina'\n",
    "from IPython.core.display import display, HTML\n",
    "display(HTML(\"<style>.container { width:100% !important; }</style>\"))"
   ]
  },
  {
   "cell_type": "code",
   "execution_count": 3,
   "metadata": {
    "scrolled": true
   },
   "outputs": [
    {
     "name": "stdout",
     "output_type": "stream",
     "text": [
      "Imported successfully\n"
     ]
    }
   ],
   "source": [
    "from functions import *\n",
    "%matplotlib inline\n",
    "import seaborn"
   ]
  },
  {
   "cell_type": "markdown",
   "metadata": {},
   "source": [
    "### Initialize the parameters and constants"
   ]
  },
  {
   "cell_type": "code",
   "execution_count": 4,
   "metadata": {},
   "outputs": [],
   "source": [
    "# Set the ABM Evaluation Budget\n",
    "budget = 500\n",
    "\n",
    "# Set out-of-sample test and montecarlo sizes\n",
    "test_size = 100\n",
    "montecarlos = 100\n",
    "\n",
    "# Get an on out-of-sample test set that does not have combinations from the\n",
    "# batch or iterative experiments\n",
    "final_test_size = (test_size * montecarlos)\n",
    "\n",
    "# Set the ABM parameters and support\n",
    "islands_exploration_range = np.array([\n",
    "    (0.0, 10),  # rho\n",
    "    (0.8, 2.0),  # alpha\n",
    "    (0.0, 1.0),  # phi\n",
    "    (0.0, 1.0),  # pi\n",
    "    (0.0, 1.0)])  # eps\n",
    "\n",
    "param_dims = islands_exploration_range.shape[0]"
   ]
  },
  {
   "cell_type": "markdown",
   "metadata": {},
   "source": [
    "## Evaluate the entire Budget in Batch and Generate unique out-of-sample test set\n",
    "Draw these samples according to a pseudo-random, well spaced generator. Here we use Sobol sequences because of their known coverage and compute performance. Note that the out of sample set is taken uniformly at random from the support. If you take points that are structured by the sobol sequence generator, then the performance evaluation will not be blind and will actually bias the Sobol structure. The aim of the out of sample set is to demonstrate out of sample points that can come from any point in the support of the parameters."
   ]
  },
  {
   "cell_type": "code",
   "execution_count": 6,
   "metadata": {},
   "outputs": [
    {
     "name": "stderr",
     "output_type": "stream",
     "text": [
      "/mnt/402bcd29-f083-499e-81ea-f864cbffc57d/Dropbox/Research/ABMoptimization/example_code/functions.py:239: RuntimeWarning: divide by zero encountered in log\n",
      "  log_GDP = np.log(GDP)\n"
     ]
    }
   ],
   "source": [
    "load_data = False\n",
    "\n",
    "if load_data: # This is only for the budget = 500 setting\n",
    "    evaluated_set_X_batch = pd.read_csv('X.csv',index_col=0).values\n",
    "    evaluated_set_y_batch = pd.read_csv('y.csv',index_col=0).values\n",
    "    oos_set = pd.read_csv('X_oos.csv',index_col=0).values\n",
    "    y_test = pd.read_csv('y_oos.csv',index_col=0).values\n",
    "else:\n",
    "    # Generate Sobol samples for training set\n",
    "    n_dimensions = islands_exploration_range.shape[0]\n",
    "    evaluated_set_X_batch = get_sobol_samples(n_dimensions, budget, islands_exploration_range)\n",
    "    evaluated_set_y_batch = evaluate_islands_on_set(evaluated_set_X_batch)\n",
    "    \n",
    "    pd.DataFrame(evaluated_set_X_batch).to_csv(\"X.csv\")\n",
    "    pd.DataFrame(evaluated_set_y_batch).to_csv(\"y.csv\")\n",
    "    \n",
    "    # Build Out-of-sample set\n",
    "    oos_set = get_unirand_samples(n_dimensions, final_test_size*budget, islands_exploration_range)\n",
    "    selections = []\n",
    "    for i, v in enumerate(oos_set):\n",
    "        if (v not in evaluated_set_X_batch):\n",
    "            selections.append(i)\n",
    "    oos_set = unique_rows(oos_set[selections])[:final_test_size]\n",
    "\n",
    "    # Evaluate the test set for the ABM response\n",
    "    y_test = evaluate_islands_on_set(oos_set)\n",
    "    \n",
    "    pd.DataFrame(oos_set).to_csv(\"X_oos.csv\")\n",
    "    pd.DataFrame(y_test).to_csv(\"y_oos.csv\")"
   ]
  },
  {
   "cell_type": "markdown",
   "metadata": {},
   "source": [
    "## Compute the Kriging Surrogate"
   ]
  },
  {
   "cell_type": "code",
   "execution_count": 7,
   "metadata": {},
   "outputs": [
    {
     "data": {
      "text/plain": [
       "GaussianProcessRegressor(alpha=1e-10, copy_X_train=True, kernel=None,\n",
       "             n_restarts_optimizer=0, normalize_y=False,\n",
       "             optimizer='fmin_l_bfgs_b', random_state=0)"
      ]
     },
     "execution_count": 7,
     "metadata": {},
     "output_type": "execute_result"
    }
   ],
   "source": [
    "# We use the default Gaussian Kernel and L-BFGS optimizer.\n",
    "surrogate_models_kriging = GaussianProcessRegressor(random_state=0)\n",
    "surrogate_models_kriging.fit(evaluated_set_X_batch, evaluated_set_y_batch)"
   ]
  },
  {
   "cell_type": "markdown",
   "metadata": {},
   "source": [
    "## Compute the XGBoost Surrogate"
   ]
  },
  {
   "cell_type": "code",
   "execution_count": 8,
   "metadata": {},
   "outputs": [
    {
     "name": "stdout",
     "output_type": "stream",
     "text": [
      "Iteration No: 1 started. Evaluating function at random point.\n",
      "Iteration No: 1 ended. Evaluation done at random point.\n",
      "Time taken: 0.3654\n",
      "Function value obtained: 0.0157\n",
      "Current minimum: 0.0157\n",
      "Iteration No: 2 started. Evaluating function at random point.\n",
      "Iteration No: 2 ended. Evaluation done at random point.\n",
      "Time taken: 0.4320\n",
      "Function value obtained: 0.0094\n",
      "Current minimum: 0.0094\n",
      "Iteration No: 3 started. Evaluating function at random point.\n",
      "Iteration No: 3 ended. Evaluation done at random point.\n",
      "Time taken: 0.2220\n",
      "Function value obtained: 0.0152\n",
      "Current minimum: 0.0094\n",
      "Iteration No: 4 started. Evaluating function at random point.\n",
      "Iteration No: 4 ended. Evaluation done at random point.\n",
      "Time taken: 0.1700\n",
      "Function value obtained: 0.0170\n",
      "Current minimum: 0.0094\n",
      "Iteration No: 5 started. Evaluating function at random point.\n",
      "Iteration No: 5 ended. Evaluation done at random point.\n",
      "Time taken: 0.4290\n",
      "Function value obtained: 0.0136\n",
      "Current minimum: 0.0094\n",
      "Iteration No: 6 started. Evaluating function at random point.\n",
      "Iteration No: 6 ended. Evaluation done at random point.\n",
      "Time taken: 0.2912\n",
      "Function value obtained: 0.0360\n",
      "Current minimum: 0.0094\n",
      "Iteration No: 7 started. Evaluating function at random point.\n",
      "Iteration No: 7 ended. Evaluation done at random point.\n",
      "Time taken: 0.1980\n",
      "Function value obtained: 0.0126\n",
      "Current minimum: 0.0094\n",
      "Iteration No: 8 started. Evaluating function at random point.\n",
      "Iteration No: 8 ended. Evaluation done at random point.\n",
      "Time taken: 0.1843\n",
      "Function value obtained: 0.0286\n",
      "Current minimum: 0.0094\n",
      "Iteration No: 9 started. Evaluating function at random point.\n",
      "Iteration No: 9 ended. Evaluation done at random point.\n",
      "Time taken: 0.4200\n",
      "Function value obtained: 0.0116\n",
      "Current minimum: 0.0094\n",
      "Iteration No: 10 started. Evaluating function at random point.\n",
      "Iteration No: 10 ended. Evaluation done at random point.\n",
      "Time taken: 3.7083\n",
      "Function value obtained: 0.0190\n",
      "Current minimum: 0.0094\n"
     ]
    }
   ],
   "source": [
    "# This surrogate will not have multiple iterations. It will run on the entire budget of evaluations.\n",
    "surrogate_model_XGBoost = fit_surrogate_model(evaluated_set_X_batch, evaluated_set_y_batch)"
   ]
  },
  {
   "cell_type": "markdown",
   "metadata": {},
   "source": [
    "# Evaluate both surrogates on the test set"
   ]
  },
  {
   "cell_type": "code",
   "execution_count": 9,
   "metadata": {},
   "outputs": [],
   "source": [
    "y_hat_test = [None] * 2\n",
    "y_hat_test[0] = surrogate_models_kriging.predict(oos_set)\n",
    "y_hat_test[1] = surrogate_model_XGBoost.predict(oos_set)\n",
    "\n",
    "# MSE performance\n",
    "mse_perf = np.zeros((2, montecarlos))\n",
    "for sur_idx in range(len(y_hat_test)):\n",
    "    for i in range(montecarlos):\n",
    "        mse_perf[sur_idx, i] = mean_squared_error(y_test[i * test_size:(i + 1) * test_size],\n",
    "                                                  y_hat_test[int(sur_idx)][i * test_size:(i + 1) * test_size])"
   ]
  },
  {
   "cell_type": "markdown",
   "metadata": {},
   "source": [
    "## Plot the out-of-sample Monte Carlo performance densities for each of the methods"
   ]
  },
  {
   "cell_type": "code",
   "execution_count": 10,
   "metadata": {},
   "outputs": [
    {
     "data": {
      "image/png": "[encoded data removed]",
      "text/plain": [
       "<matplotlib.figure.Figure at 0x7f04cb003a20>"
      ]
     },
     "metadata": {
      "image/png": {
       "height": 331,
       "width": 690
      }
     },
     "output_type": "display_data"
    }
   ],
   "source": [
    "experiment_labels = [\"Kriging\", \"XGBoost (Batch)\"]\n",
    "\n",
    "mse_perf = pd.DataFrame(mse_perf, index=experiment_labels)\n",
    "\n",
    "k_label = \"Kriging: Mean \" + '{:2.5f}'.format(mse_perf.iloc[0, :].mean()) + \", Variance \" + '{:2.5f}'.format(mse_perf.iloc[0, :].var())\n",
    "xgb_label = \"XGBoost: Mean \" + '{:2.5f}'.format(mse_perf.iloc[1, :].mean()) + \", Variance \" + '{:2.5f}'.format(mse_perf.iloc[1, :].var())\n",
    "\n",
    "fig, ax = plt.subplots(figsize=(12, 5))\n",
    "sns.distplot(mse_perf.iloc[0, :], label=k_label, ax=ax)\n",
    "sns.distplot(mse_perf.iloc[1, :], label=xgb_label, ax=ax)\n",
    "\n",
    "plt.title(\"Out-Of-Sample Prediction Performance\")\n",
    "plt.xlabel('Mean-Squared Error')\n",
    "plt.yticks([])\n",
    "\n",
    "plt.legend()\n",
    "\n",
    "fig.savefig(\"xgboost_kriging_ba_comparison_\" + str(budget) + \".pdf\");"
   ]
  },
  {
   "cell_type": "code",
   "execution_count": 11,
   "metadata": {},
   "outputs": [
    {
     "data": {
      "text/plain": [
       "'0.48006'"
      ]
     },
     "execution_count": 11,
     "metadata": {},
     "output_type": "execute_result"
    }
   ],
   "source": [
    "'{:2.5f}'.format(mse_perf.iloc[0, :].mean())"
   ]
  },
  {
   "cell_type": "code",
   "execution_count": null,
   "metadata": {
    "collapsed": true,
    "jupyter": {
     "outputs_hidden": true
    }
   },
   "outputs": [],
   "source": []
  }
 ],
 "metadata": {
  "kernelspec": {
   "display_name": "Python 3 (ipykernel)",
   "language": "python",
   "name": "python3"
  },
  "language_info": {
   "codemirror_mode": {
    "name": "ipython",
    "version": 3
   },
   "file_extension": ".py",
   "mimetype": "text/x-python",
   "name": "python",
   "nbconvert_exporter": "python",
   "pygments_lexer": "ipython3",
   "version": "3.9.7"
  }
 },
 "nbformat": 4,
 "nbformat_minor": 4
}
